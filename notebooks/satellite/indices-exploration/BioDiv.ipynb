{
 "cells": [
  {
   "cell_type": "code",
   "execution_count": 7,
   "id": "fc1dd275-e9a1-47c8-a217-bfa0f7b35f47",
   "metadata": {},
   "outputs": [
    {
     "name": "stdout",
     "output_type": "stream",
     "text": [
      "\n",
      "The downloaded binary packages are in\n",
      "\t/var/folders/qg/jd8hw77d26x8g6xwxhxn2wk00000gn/T//Rtmpv1ZN8w/downloaded_packages\n"
     ]
    },
    {
     "name": "stderr",
     "output_type": "stream",
     "text": [
      "Downloading GitHub repo cran/dissUtils@HEAD\n",
      "\n"
     ]
    },
    {
     "name": "stdout",
     "output_type": "stream",
     "text": [
      "\u001b[32m✔\u001b[39m  \u001b[90mchecking for file ‘/private/var/folders/qg/jd8hw77d26x8g6xwxhxn2wk00000gn/T/Rtmpv1ZN8w/remotes3d6c1505186b/cran-dissUtils-4a1fa32/DESCRIPTION’\u001b[39m\u001b[36m\u001b[39m\n",
      "\u001b[90m─\u001b[39m\u001b[90m  \u001b[39m\u001b[90mpreparing ‘dissUtils’:\u001b[39m\u001b[36m\u001b[39m\n",
      "\u001b[32m✔\u001b[39m  \u001b[90mchecking DESCRIPTION meta-information\u001b[39m\u001b[36m\u001b[39m\n",
      "\u001b[90m─\u001b[39m\u001b[90m  \u001b[39m\u001b[90mcleaning src\u001b[39m\u001b[36m\u001b[39m\n",
      "\u001b[90m─\u001b[39m\u001b[90m  \u001b[39m\u001b[90mchecking for LF line-endings in source and make files and shell scripts\u001b[39m\u001b[36m\u001b[39m\n",
      "\u001b[90m─\u001b[39m\u001b[90m  \u001b[39m\u001b[90mchecking for empty or unneeded directories\u001b[39m\u001b[36m\u001b[39m\n",
      "\u001b[90m─\u001b[39m\u001b[90m  \u001b[39m\u001b[90mbuilding ‘dissUtils_1.0.tar.gz’\u001b[39m\u001b[36m\u001b[39m\n",
      "   \n",
      "\r"
     ]
    },
    {
     "name": "stderr",
     "output_type": "stream",
     "text": [
      "Downloading GitHub repo jbferet/biodivMapR@HEAD\n",
      "\n"
     ]
    },
    {
     "name": "stdout",
     "output_type": "stream",
     "text": [
      "wk           (NA -> 0.7.0     ) [CRAN]\n",
      "proxy        (NA -> 0.4-27    ) [CRAN]\n",
      "e1071        (NA -> 1.7-11    ) [CRAN]\n",
      "s2           (NA -> 1.1.0     ) [CRAN]\n",
      "DBI          (NA -> 1.1.3     ) [CRAN]\n",
      "classInt     (NA -> 0.4-8     ) [CRAN]\n",
      "sf           (NA -> 1.0-8     ) [CRAN]\n",
      "units        (NA -> 0.8-0     ) [CRAN]\n",
      "R.methodsS3  (NA -> 1.8.2     ) [CRAN]\n",
      "lpSolve      (NA -> 5.6.17    ) [CRAN]\n",
      "abind        (NA -> 1.4-5     ) [CRAN]\n",
      "parallelly   (NA -> 1.32.1    ) [CRAN]\n",
      "listenv      (NA -> 0.8.0     ) [CRAN]\n",
      "globals      (NA -> 0.16.1    ) [CRAN]\n",
      "colorspace   (NA -> 2.0-3     ) [CRAN]\n",
      "RColorBrewer (NA -> 1.1-3     ) [CRAN]\n",
      "munsell      (NA -> 0.5.0     ) [CRAN]\n",
      "labeling     (NA -> 0.4.2     ) [CRAN]\n",
      "farver       (NA -> 2.1.1     ) [CRAN]\n",
      "scales       (NA -> 1.2.1     ) [CRAN]\n",
      "isoband      (NA -> 0.2.6     ) [CRAN]\n",
      "gtable       (NA -> 0.3.1     ) [CRAN]\n",
      "gridExtra    (NA -> 2.3       ) [CRAN]\n",
      "ggplot2      (NA -> 3.3.6     ) [CRAN]\n",
      "viridisLite  (NA -> 0.4.1     ) [CRAN]\n",
      "dotCall64    (NA -> 1.0-2     ) [CRAN]\n",
      "backports    (NA -> 1.4.1     ) [CRAN]\n",
      "data.table   (NA -> 1.14.2    ) [CRAN]\n",
      "checkmate    (NA -> 2.1.0     ) [CRAN]\n",
      "RcppEnsma... (NA -> 0.2.19.0.1) [CRAN]\n",
      "BH           (NA -> 1.78.0-0  ) [CRAN]\n",
      "RcppArmad... (NA -> 0.11.4.0.1) [CRAN]\n",
      "sp           (NA -> 1.5-0     ) [CRAN]\n",
      "permute      (NA -> 0.9-7     ) [CRAN]\n",
      "lwgeom       (NA -> 0.2-9     ) [CRAN]\n",
      "R.oo         (NA -> 1.25.0    ) [CRAN]\n",
      "terra        (NA -> 1.6-17    ) [CRAN]\n",
      "Rtsne        (NA -> 0.16      ) [CRAN]\n",
      "RcppProgress (NA -> 0.4.2     ) [CRAN]\n",
      "linprog      (NA -> 0.9-4     ) [CRAN]\n",
      "magic        (NA -> 1.6-0     ) [CRAN]\n",
      "future       (NA -> 1.28.0    ) [CRAN]\n",
      "maps         (NA -> 3.4.0     ) [CRAN]\n",
      "viridis      (NA -> 0.6.2     ) [CRAN]\n",
      "spam         (NA -> 2.9-1     ) [CRAN]\n",
      "BBmisc       (NA -> 1.13      ) [CRAN]\n",
      "scatterpl... (NA -> 0.3-42    ) [CRAN]\n",
      "mlpack       (NA -> 3.4.2.1   ) [CRAN]\n",
      "rgeos        (NA -> 0.5-9     ) [CRAN]\n",
      "vegan        (NA -> 2.6-4     ) [CRAN]\n",
      "stars        (NA -> 0.5-6     ) [CRAN]\n",
      "snow         (NA -> 0.4-4     ) [CRAN]\n",
      "R.utils      (NA -> 2.12.0    ) [CRAN]\n",
      "rgdal        (NA -> 1.5-32    ) [CRAN]\n",
      "raster       (NA -> 3.6-3     ) [CRAN]\n",
      "mmand        (NA -> 1.6.2     ) [CRAN]\n",
      "matrixStats  (NA -> 0.62.0    ) [CRAN]\n",
      "matlab       (NA -> 1.0.4     ) [CRAN]\n",
      "labdsv       (NA -> 2.0-1     ) [CRAN]\n",
      "geometry     (NA -> 0.4.6.1   ) [CRAN]\n",
      "future.apply (NA -> 1.9.1     ) [CRAN]\n",
      "fields       (NA -> 14.1      ) [CRAN]\n",
      "emstreeR     (NA -> 3.0.0     ) [CRAN]\n",
      "ecodist      (NA -> 2.0.9     ) [CRAN]\n"
     ]
    },
    {
     "name": "stderr",
     "output_type": "stream",
     "text": [
      "Installing 64 packages: wk, proxy, e1071, s2, DBI, classInt, sf, units, R.methodsS3, lpSolve, abind, parallelly, listenv, globals, colorspace, RColorBrewer, munsell, labeling, farver, scales, isoband, gtable, gridExtra, ggplot2, viridisLite, dotCall64, backports, data.table, checkmate, RcppEnsmallen, BH, RcppArmadillo, sp, permute, lwgeom, R.oo, terra, Rtsne, RcppProgress, linprog, magic, future, maps, viridis, spam, BBmisc, scatterplot3d, mlpack, rgeos, vegan, stars, snow, R.utils, rgdal, raster, mmand, matrixStats, matlab, labdsv, geometry, future.apply, fields, emstreeR, ecodist\n",
      "\n"
     ]
    },
    {
     "name": "stdout",
     "output_type": "stream",
     "text": [
      "\n",
      "  There is a binary version available but the source version is later:\n",
      "      binary source needs_compilation\n",
      "stars  0.5-4  0.5-6             FALSE\n",
      "\n",
      "\n",
      "The downloaded binary packages are in\n",
      "\t/var/folders/qg/jd8hw77d26x8g6xwxhxn2wk00000gn/T//Rtmpv1ZN8w/downloaded_packages\n"
     ]
    },
    {
     "name": "stderr",
     "output_type": "stream",
     "text": [
      "installing the source package ‘stars’\n",
      "\n",
      "\n"
     ]
    },
    {
     "name": "stdout",
     "output_type": "stream",
     "text": [
      "\u001b[32m✔\u001b[39m  \u001b[90mchecking for file ‘/private/var/folders/qg/jd8hw77d26x8g6xwxhxn2wk00000gn/T/Rtmpv1ZN8w/remotes3d6c47f25793/jbferet-biodivMapR-fe3543c/DESCRIPTION’\u001b[39m\u001b[36m\u001b[39m\n",
      "\u001b[90m─\u001b[39m\u001b[90m  \u001b[39m\u001b[90mpreparing ‘biodivMapR’:\u001b[39m\u001b[36m\u001b[39m\n",
      "\u001b[32m✔\u001b[39m  \u001b[90mchecking DESCRIPTION meta-information\u001b[39m\u001b[36m\u001b[39m\n",
      "\u001b[90m─\u001b[39m\u001b[90m  \u001b[39m\u001b[90mchecking for LF line-endings in source and make files and shell scripts\u001b[39m\u001b[36m\u001b[39m\n",
      "\u001b[90m─\u001b[39m\u001b[90m  \u001b[39m\u001b[90mchecking for empty or unneeded directories\u001b[39m\u001b[36m\u001b[39m\n",
      "   Removed empty directory ‘biodivMapR/pkgdown’\n",
      "   Omitted ‘LazyData’ from DESCRIPTION\n",
      "\u001b[90m─\u001b[39m\u001b[90m  \u001b[39m\u001b[90mbuilding ‘biodivMapR_1.9.6.1.tar.gz’\u001b[39m\u001b[36m\u001b[39m\n",
      "   \n",
      "\r"
     ]
    }
   ],
   "source": [
    "#install libraries\n",
    "install.packages(\"remotes\")\n",
    "remotes::install_github('cran/dissUtils')\n",
    "remotes::install_github('jbferet/biodivMapR')\n",
    "\n"
   ]
  },
  {
   "cell_type": "code",
   "execution_count": 8,
   "id": "edc18af7-ef3b-4a1c-bfd1-8ae53f28a5b8",
   "metadata": {},
   "outputs": [
    {
     "name": "stderr",
     "output_type": "stream",
     "text": [
      "Registered S3 method overwritten by 'labdsv':\n",
      "  method    from   \n",
      "  plot.nmds ecodist\n",
      "\n",
      "Loading required package: abind\n",
      "\n",
      "Loading required package: sf\n",
      "\n",
      "Linking to GEOS 3.10.2, GDAL 3.4.2, PROJ 8.2.1; sf_use_s2() is TRUE\n",
      "\n"
     ]
    }
   ],
   "source": [
    "# load biodivMapR and useful libraries \n",
    "library(biodivMapR)\n",
    "library(utils)\n",
    "library(stars)\n",
    "# url for the S2 subset\n",
    "url <- 'https://gitlab.com/jbferet/myshareddata/-/raw/master/biodivMapR_S2_Sample/RASTER/S2A_T33NUD_20180104_Subset'\n",
    "# create a temporary directory (choose your own data directory)\n",
    "tmpdir <- tempdir()\n",
    "# name your binary raster with the same name as the online file\n",
    "NameRaster <- 'S2A_T33NUD_20180104_Subset'\n",
    "destfile <- file.path(tmpdir,NameRaster,fsep = '\\\\')\n",
    "download.file(url = url, destfile = destfile, method = 'auto', quiet = FALSE, mode = \"wb\")\n",
    "\n",
    "# url for the S2 subset header\n",
    "urlhdr <-  'https://gitlab.com/jbferet/myshareddata/-/raw/master/biodivMapR_S2_Sample/RASTER/S2A_T33NUD_20180104_Subset.hdr'\n",
    "# name your raster HDR with the same name as the binary raster, with .hdr extension\n",
    "destfile_HDR <- get_HDR_name(destfile,showWarnings = FALSE)\n",
    "download.file(url = urlhdr, destfile = destfile_HDR, method = 'auto', quiet = FALSE, mode = \"w\")"
   ]
  },
  {
   "cell_type": "code",
   "execution_count": 9,
   "id": "32d6b7fd-2fe5-4cdd-93a3-98f76ebf8cbe",
   "metadata": {},
   "outputs": [
    {
     "name": "stdout",
     "output_type": "stream",
     "text": [
      "trying to read file: /private/var/folders/qg/jd8hw77d26x8g6xwxhxn2wk00000gn/T/Rtmpv1ZN8w\\S2A_T33NUD_20180104_Subset\n"
     ]
    },
    {
     "ename": "ERROR",
     "evalue": "Error in CPL_read_gdal(as.character(x), as.character(options), as.character(driver), : file not found\n",
     "output_type": "error",
     "traceback": [
      "Error in CPL_read_gdal(as.character(x), as.character(options), as.character(driver), : file not found\nTraceback:\n",
      "1. stars::read_stars(destfile, along = \"band\", proxy = FALSE)",
      "2. sf::gdal_read(get_names(x), options = options, driver = driver, \n .     read_data = !proxy, NA_value = NA_value, RasterIO_parameters = as.list(RasterIO))",
      "3. CPL_read_gdal(as.character(x), as.character(options), as.character(driver), \n .     as.logical(read_data), as.double(NA_value), RasterIO_parameters)"
     ]
    }
   ],
   "source": [
    "# read ENVI file with stars\n",
    "Stars_S2 <- stars::read_stars(destfile, along = 'band',proxy = FALSE)\n",
    "# write it as a tiff image\n",
    "# create a specific directory for the tiff image and name your raster\n",
    "desttiff <- file.path(tmpdir,'TIFF',fsep = '\\\\')\n",
    "dir.create(desttiff,showWarnings = FALSE)\n",
    "destfiletiff <- file.path(desttiff,'S2_Subset.tif',fsep = '\\\\')\n",
    "r <- write_stars(Stars_S2, dsn=destfiletiff, driver =  'GTiff', type='Int16')"
   ]
  },
  {
   "cell_type": "code",
   "execution_count": null,
   "id": "62e89201-8206-4ae3-be29-b1916fdf2bd9",
   "metadata": {},
   "outputs": [],
   "source": []
  }
 ],
 "metadata": {
  "kernelspec": {
   "display_name": "R",
   "language": "R",
   "name": "ir"
  },
  "language_info": {
   "codemirror_mode": "r",
   "file_extension": ".r",
   "mimetype": "text/x-r-source",
   "name": "R",
   "pygments_lexer": "r",
   "version": "4.2.1"
  }
 },
 "nbformat": 4,
 "nbformat_minor": 5
}
