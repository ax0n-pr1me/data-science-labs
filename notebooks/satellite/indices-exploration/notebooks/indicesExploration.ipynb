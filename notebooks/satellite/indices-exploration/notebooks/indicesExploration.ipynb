{
 "cells": [
  {
   "cell_type": "markdown",
   "metadata": {},
   "source": [
    "# Vegetation Indices For Agriculture In Digital Solutions\n",
    "\n",
    "Summarized from [this helpful blog](https://eos.com/blog/vegetation-indices/)"
   ]
  },
  {
   "cell_type": "markdown",
   "metadata": {},
   "source": [
    "## Data Book\n",
    "\n",
    "### Planet Labs\n",
    "\n",
    "Band Map\n",
    "1. coastal_blue  \n",
    "2. blue  \n",
    "3. green_i  \n",
    "4. green  \n",
    "5. yellow  \n",
    "6. red  \n",
    "7. rededge  \n",
    "8. nir  "
   ]
  },
  {
   "cell_type": "markdown",
   "metadata": {},
   "source": [
    "## Normalized Difference Vegetation Index (NDVI)\n",
    "\n",
    "Among the typical spectral vegetation indices, NDVI is one of the most suitable to track crop development dynamics since it measures photosynthetically active biomass in plants. However, this vegetation index is quite sensitive to soil brightness and atmospheric effects, mitigated in other indices like EVI, SAVI, ARVI, GCL, or SIPI.\n",
    "\n",
    "Formula: `NDVI = (NIR – RED) / (NIR + RED)`\n",
    "\n",
    "**Key fact:** NDVI is the most common vegetation index in remote sensing. It can be used throughout the whole crop production season except when vegetation cover is too scarce, so its spectral reflectance is too low.\n",
    "\n",
    "_When to use:_ NDVI values are the most accurate in the middle of the season at the stage of active crop growth.\n",
    "\n",
    "\n",
    "\n",
    "```{sh}\n",
    "\n",
    "(\"t_1@8\" - \"t_1@6\") / (\"t_1@8\" + \"t_1@6\")\n",
    "(\"t_2@8\" - \"t_2@6\") / (\"t_2@8\" + \"t_2@6\")\n",
    "(\"t_3@8\" - \"t_3@6\") / (\"t_3@8\" + \"t_3@6\")\n",
    "```\n"
   ]
  },
  {
   "cell_type": "markdown",
   "metadata": {},
   "source": [
    "## Red-Edge Chlorophyll Vegetation Index (RECl)\n",
    "\n",
    "The ReCI vegetation index is responsive to chlorophyll content in leaves that is nourished by nitrogen. ReCI shows the photosynthetic activity of the canopy cover.\n",
    "\n",
    "Formula: `ReCI = (NIR / RED) – 1`\n",
    "\n",
    "**Key fact:** Because chlorophyll content directly depends on nitrogen level in plants, responsible for their “greenness”, this vegetation index in remote sensing helps detect areas with yellow or shed foliage.\n",
    "\n",
    "_When to use:_ ReCI values are most useful at the stage of active vegetation development but are not suitable for the season of harvesting.\n",
    "\n",
    "```\n",
    "\n",
    "((\"t_1@8\" / \"t_1@6\") - 1)\n",
    "((\"t_2@8\" / \"t_2@6\") - 1)\n",
    "((\"t_3@8\" / \"t_3@6\") - 1)\n",
    "\n",
    "```\n"
   ]
  },
  {
   "cell_type": "markdown",
   "metadata": {},
   "source": [
    "## Normalized Difference Red Edge Vegetation Index (NDRE)\n",
    "\n",
    "The NDRE index combines the Near-infrared (NIR) spectral bands and a specific band for the narrow range between the visible red and the red-NIR transition zone (the so-called red-edge region). For the best data precision, it is recommended to use NDRE in combination with NDVI.\n",
    "\n",
    "Formula: `NDRE = (NIR – RED EDGE) / (NIR + RED EDGE)`\n",
    "\n",
    "**Key fact:** The given vegetation index applies for high-density canopy cover.\n",
    "\n",
    "_When to use:_ NDRE is typically used to monitor crops that have reached the maturity stage.\n",
    "\n",
    "```{sh}\n",
    "\n",
    "(\"t_1@8\" - \"t_1@7\") / (\"t_1@8\" + \"t_1@7\")\n",
    "(\"t_2@8\" - \"t_2@7\") / (\"t_2@8\" + \"t_2@7\")\n",
    "(\"t_3@8\" - \"t_3@7\") / (\"t_3@8\" + \"t_3@7\")\n",
    "\n",
    "```"
   ]
  },
  {
   "cell_type": "markdown",
   "metadata": {},
   "source": [
    "## Modified Soil-Adjusted Vegetation Index (MSAVI)\n",
    "\n",
    "The MSAVI vegetation index is designated to mitigate soil effects on crop monitoring results. Therefore, it is applied when NDVI can’t provide accurate values, particularly, with a high percentage of bare soil, scarce vegetation, or low chlorophyll content in plants.\n",
    "\n",
    "Formula: `MSAVI = (2 * NIR + 1 – sqrt((2* NIR + 1)^2 – 8 * (NIR – RED))) / 2`\n",
    "\n",
    "**Key fact:** Since MSAVI is adjusted to soil effects and is sensitive to early vegetation in the field, it works even when the earth is hardly covered with crops.\n",
    "\n",
    "_When to use:_ MSAVI is useful at the very beginning of crop production season – when seedlings start to establish.\n",
    "\n",
    "\n",
    "```{sh} \n",
    "\n",
    "(2 * \"t_1@8\" + 1 - sqrt((2 * \"t_1@8\" + 1) ^ 2 - 8 * (\"t_1@8\" - \"t_1@6\")))\n",
    "(2 * \"t_2@8\" + 1 - sqrt((2 * \"t_2@8\" + 1) ^ 2 - 8 * (\"t_2@8\" - \"t_2@6\")))\n",
    "(2 * \"t_3@8\" + 1 - sqrt((2 * \"t_3@8\" + 1) ^ 2 - 8 * (\"t_3@8\" - \"t_3@6\")))\n",
    "\n",
    "```\n"
   ]
  },
  {
   "cell_type": "markdown",
   "metadata": {},
   "source": [
    "## Green Normalized Difference Vegetation Index (GNDVI)\n",
    "\n",
    "The GNDVI index is a modification of NDVI and it also uses near-infrared but substitutes VIS green for VIS red (540 to 570 nm).\n",
    "\n",
    "Formula: `GNDVI = (NIR – GREEN) / (NIR + GREEN)`\n",
    "\n",
    "**Key fact:** GNDVI measures chlorophyll content more accurately than NDVI.\n",
    "\n",
    "_When to use:_ to detect wilted or aging crops and to measure nitrogen content in leaves when an extreme red channel is not available, monitor vegetation with dense canopies or at maturity stages.\n",
    "\n",
    "```{sh}\n",
    "\n",
    "(\"t_1@8\" - \"t_1@4\")/(\"t_1@8\" + \"t_1@4\")\n",
    "(\"t_2@8\" - \"t_2@4\")/(\"t_2@8\" + \"t_2@4\")\n",
    "(\"t_3@8\" - \"t_3@4\")/(\"t_3@8\" + \"t_3@4\")\n",
    "\n",
    "```"
   ]
  },
  {
   "cell_type": "markdown",
   "metadata": {},
   "source": [
    "## Normalized Difference Water Index (NDWI)\n",
    "\n",
    "The NDWI was initially elaborated to outline open water bodies and assess their turbidity, mitigating the reflectance of soil and land vegetation cover. NDWI is retrieved with a near-infrared and visible green band combination.\n",
    "\n",
    "Formula: `NDWI = (GREEN – NIR) / (GREEN + NIR)`\n",
    "\n",
    "Key facts: The NDWI index is often confused with NDMI (Normalized Difference Moisture Index). NDWI (<-- that might be a typo, NDMI perhaps?) uses SWIR (Short Wave Infrared) and NIR channels. NIR reflectance allows analyzing dry matter content in vegetation foliage and internal leaf structure, while SWIR reflectance shows the changes in plant water content and mesophyll structure. When combined, NIR and SWIR bands give a better idea of plant water content because the water in the internal leaf structure impacts the spectral reflectance in SWIR.\n",
    "\n",
    "_When to use:_ detection of flooded agricultural lands; allocation of flooding on the field; detection irrigated farmland; allocation of wetlands.\n",
    "\n"
   ]
  },
  {
   "cell_type": "markdown",
   "metadata": {},
   "source": [
    "## Soil Adjusted Vegetation Index (SAVI)\n",
    "\n",
    "The SAVI was introduced to mitigate the impact of soil brightness. Its creator Huete added a soil adjustment factor L to the equation of NDVI in order to correct for soil noise effects (soil color, soil moisture, soil variability across regions, etc.), which tend to impact the results.\n",
    "\n",
    "Formula: `SAVI = ((NIR – RED) / (NIR + RED + L)) * (1 + L)`\n",
    "\n",
    "**Key fact:** L varies from –1 to +1, depending on the green vegetation density in the questioned area. In areas with high green vegetation L= 0, and in this case, SAVI is the same as NDVI. Conversely, L = 1 for low green vegetation zones. Most typically, L is set to 0.5 to adjust to most land cover.\n",
    "\n",
    "_When to use:_ for analysis of young crops; for arid regions with sparse vegetation (less than 15% of total area) and exposed soil surfaces.\n",
    "\n",
    "_Example of the SAVI vegetation index:_ Calculated SAVI index from a Sentinel 2 image of irrigation pivots in Saudi Arabia.\n",
    "\n"
   ]
  },
  {
   "cell_type": "markdown",
   "metadata": {},
   "source": [
    "## Optimized Soil Adjusted Vegetation Index (OSAVI)\n",
    "\n",
    "The OSAVI vegetation index is a modified SAVI and also uses reflectance in the NIR and red spectrum. The difference between the two indices is that OSAVI takes into account the standard value of the canopy background adjustment factor (0.16).\n",
    "\n",
    "Formula: `OSAVI = (NIR – RED) / (NIR + RED + 0.16)`\n",
    "\n",
    "**Key fact:** The adjustment allows greater soil variation in OSAVI compared to SAVI when canopy cover is low. OSAVI has a better sensitivity to canopy cover exceeding 50%.\n",
    "\n",
    "_When to use:_ to monitor areas with low-density vegetation with bare soil areas through the canopy.\n"
   ]
  },
  {
   "cell_type": "markdown",
   "metadata": {},
   "source": [
    "## Atmospherically Resistant Vegetation Index (ARVI)\n",
    "\n",
    "This is the first vegetation index, relatively insensitive to atmospheric factors (e.g., aerosols). As the formula shows, Kaufman and Tanré corrected NDVI to mitigate atmospheric scattering effects by doubling the red spectrum measurements and adding blue wavelengths.\n",
    "\n",
    "Formula: `ARVI = (NIR – (2 *RED) + BLUE) / (NIR + (2* RED) + BLUE)`\n",
    "\n",
    "**Key fact:** Compared to other indices, ARVI is also more insensitive to relief effects, being particularly useful to monitor tropical mountainous regions often covered with soot due to slash-and-burn agriculture.\n",
    "\n",
    "_When to use:_ for regions with high content of atmospheric aerosol (e.g. rain, fog, dust, smoke, air pollution).\n",
    "\n"
   ]
  },
  {
   "cell_type": "markdown",
   "metadata": {},
   "source": [
    "## Enhanced Vegetation Index (EVI)\n",
    "\n",
    "Liu and Huete introduced the EVI vegetation index to adjust NDVI results to atmospheric and soil noises, particularly in dense vegetation areas, as well as to mitigate saturation in most cases. The value range for EVI is –1 to +1, and for healthy vegetation, it varies between 0.2 and 0.8.\n",
    "\n",
    "Formula: `EVI = 2.5 *((NIR – RED) / ((NIR) + (C1* RED) – (C2 * BLUE) + L))`\n",
    "\n",
    "**Key fact:** EVI contains coefficients C1 and C2 to correct for aerosol scattering present in the atmosphere, and L to adjust for soil and canopy background. Beginner GIS analysts may be confused by what values should be used and how to calculate EVI for different satellite data. Traditionally, for NASA’s MODIS sensor (which the EVI vegetation index was developed for) C1=6, C2=7.5, and L=1. In case you’re wondering how to see Enhanced Vegetation Index using Sentinel 2 or Landsat 8 data, use the same values or simply use EOS Crop Monitoring, which also allows downloading the results.\n",
    "\n",
    "_When to use:_ for analyzing areas of Earth with large amounts of chlorophyll (such as rainforests), and preferably with minimum topographic effects (non-mountainous regions).\n",
    "\n"
   ]
  },
  {
   "cell_type": "markdown",
   "metadata": {},
   "source": [
    "## Visible Atmospherically Resistant Index (VARI)\n",
    "\n",
    "The VARI index is perfect for RGB or color images since it works with the whole visible segment of the electromagnetic spectrum (comprising red, green, and blue color bands). Its specific task is to enhance vegetation under strong atmospheric impact while smoothing illumination variations. VARI can be used for the following satellite sensors: Sentinel-2, Landsat-8, GeoEye-1, Pleiades-1, Quickbird, and IKONOS.\n",
    "\n",
    "Formula: `VARI = (GREEN – RED) / (GREEN + RED – BLUE)`\n",
    "\n",
    "**Key fact:** Thanks to low sensitivity to atmospheric impact, the error of VARI for vegetation monitoring in conditions of different atmospheric thickness is less than 10%.\n",
    "\n",
    "_When to use:_ crop state assessment when minimum sensitivity to atmospheric effects is required.\n",
    "\n"
   ]
  },
  {
   "cell_type": "markdown",
   "metadata": {},
   "source": [
    "## Leaf Area Vegetation Index (LAI)\n",
    "\n",
    "The LAI index is designed to analyze the foliage surface of our planet and it estimates the quantity of leaves in a specific region. LAI is a unitless measure that is calculated as the ratio of the one-sided (illuminated) foliage area to the soil surface it can cover. This vegetation index is important to monitor crop and forest health, the environment, and climatic conditions. LAI is scalable to an individual plant, crop(s) in the field, or the whole region.\n",
    "\n",
    "Formula: `LAI = leaf area (m2) / ground area (m2)`\n",
    "\n",
    "Key Facts: The LAI leaf vegetation index in remote sensing was introduced for the NASA MODIS sensor to improve NDVI data. Unlike the latter, it takes into account topographic features, and the spectral bands that are used for its calculations undergo atmospheric correction.\n",
    "\n",
    "If LAI = 3, then the leaves can cover the surface threefold. LAI is considered high at 0-3.5. However, its values ​​saturate with clouds and bright objects that should be masked for data accuracy.\n",
    "\n",
    "_When to use:_ in vegetation health assessment, as input data in a productivity forecasting model.\n",
    "\n"
   ]
  },
  {
   "cell_type": "markdown",
   "metadata": {},
   "source": [
    "## Normalized Burn Ratio (NBR)\n",
    "\n",
    "By definition, the Normalized Burn Ratio is used to highlight burned areas following the fire. The equation of the NBR vegetation index includes measurements at both NIR and SWIR wavelengths: healthy vegetation shows high reflectance in the NIR spectrum, whereas the recently burned areas of vegetation reflect highly in the SWIR spectrum.\n",
    "\n",
    "This vegetation index calculation is based on a raster image with NIR and SWIR bands, e.g., from Landsat-7, Landsat-8, or MODIS. The range of values is between +1 and –1.\n",
    "\n",
    "Formula: `NBR = (NIR – SWIR) / (NIR + SWIR)`\n",
    "\n",
    "**Key fact:** The NBR fire index has become especially instrumental in the past years as extreme weather conditions cause a significant increase in recent wildfires destroying forest biomass.\n",
    "\n",
    "_When to use:_ the typical use of NBR for agriculture and forestry is the detection of active wildfires, analysis of burn severity, and monitoring of vegetation survival after the burn.\n",
    "\n"
   ]
  },
  {
   "cell_type": "markdown",
   "metadata": {},
   "source": [
    "## Structure Intensive Pigment Vegetation Index (SIPI)\n",
    "\n",
    "The SIPI vegetation index is good for the analysis of vegetation with the variable canopy structure. It estimates the ratio of carotenoids to chlorophyll: the increased value signals vegetation stress.\n",
    "\n",
    "Formula: `SIPI = (NIR – BLUE) / (NIR – RED)`\n",
    "\n",
    "**Key fact:** Increased SIPI values (high carotenoids and low chlorophyll) may mean crop disease, often inducing chlorophyll loss in vegetation.\n",
    "\n",
    "_When to use:_ for monitoring plant health in areas with high variability in canopy structure or LAI, for identifying early signs of crop diseases or other causes of stress.\n",
    "\n"
   ]
  },
  {
   "cell_type": "markdown",
   "metadata": {},
   "source": [
    "## Green Chlorophyll Vegetation Index (GCI)\n",
    "\n",
    "In remote sensing, the GCI vegetation index is used to estimate the content of leaf chlorophyll in various species of plants. The chlorophyll content reflects the physiological state of vegetation; it decreases in stressed plants and can therefore be used as a measurement of vegetation health.\n",
    "\n",
    "Formula: `GCI = NIR / GREEN – 1`\n",
    "\n",
    "**Key fact:** Better prediction of chlorophyll amount with the GCI vegetation index can be achieved by using satellite sensors that have broad NIR and green wavelengths.\n",
    "\n",
    "_When to use:_ to monitor the impact of seasonality, environmental stresses, or applied pesticides on vegetation health.\n",
    "\n"
   ]
  },
  {
   "cell_type": "markdown",
   "metadata": {},
   "source": [
    "## Normalized Difference Snow Index (NDSI)\n",
    "\n",
    "The NDSI vegetation index applies to detect snow cover with visible (VIS) green and SWIR or NIR band combinations. The band choice is explained with high snow reflectance in SWIR and low reflectance in VIS, while cloud reflectance in these spectral regions is high. This property allows distinguishing between clouds and snow. The presence of snow is understood through the ratio of the difference in VIS and SWIR reflectance.\n",
    "\n",
    "Formula: `NDSI = (GREEN – SWIR1) / (GREEN + SWIR1)`\n",
    "\n",
    "**Key fact:** NDSI is similar to Fractional Snow Cover (FSC) in snow detection, but it provides more accurate data than the latter.\n",
    "\n",
    "_When to use:_ in snow mapping, to differentiate between snow and clouds.\n",
    "\n"
   ]
  },
  {
   "cell_type": "markdown",
   "metadata": {},
   "source": [
    "## Index Stack (ISTACK)\n",
    "\n",
    "This is a combination of three indices (NDVI, NDWI, and NDSI) to generate an image stack. In this merged image stack, a specific landscape is allocated its particular conventional color:\n",
    "\n",
    "vegetation is green;\n",
    "earth, rocks, bare soil appear in blue;\n",
    "snow, clouds, ice, and water all together are attributed purple hues.\n",
    "Formula: `It is a combination of NDSI, NDVI, and NDWI, so the formula depends on a satellite the data is derived from.`\n",
    "\n",
    "**Key fact:** The stack of indices automatically distinguishes various landscape features, as well as enables image classification and quantitative analysis with index values. By combining various vegetation indices, one can increase the potential of this analysis type to nearly unlimited. However, ISTACK has a drawback: similar hues of snow, clouds, ice, and water complicate their separation.\n",
    "\n",
    "_When to use:_ automatic differentiation of diverse landscape features with NDVI, NDWI, and NDSI to generate an image stack for Landsat-4,5,7; Sentinel-2; MODIS imagery.\n"
   ]
  }
 ],
 "metadata": {
  "kernelspec": {
   "display_name": "Python 3.10.6 64-bit ('satellite-analysis')",
   "language": "python",
   "name": "python3"
  },
  "language_info": {
   "codemirror_mode": {
    "name": "ipython",
    "version": 3
   },
   "file_extension": ".py",
   "mimetype": "text/x-python",
   "name": "python",
   "nbconvert_exporter": "python",
   "pygments_lexer": "ipython3",
   "version": "3.10.6"
  },
  "orig_nbformat": 4,
  "vscode": {
   "interpreter": {
    "hash": "d0ba8055699ed854de5b7ce60197655a04407182ff1fb981882259de2a9208e9"
   }
  }
 },
 "nbformat": 4,
 "nbformat_minor": 2
}
