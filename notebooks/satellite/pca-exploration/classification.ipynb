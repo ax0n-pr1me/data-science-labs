{
 "cells": [
  {
   "attachments": {},
   "cell_type": "markdown",
   "metadata": {},
   "source": [
    "# PCA and Spectral Clustering for Satellite Image Classification\n",
    "\n",
    "## Introduction\n",
    "\n",
    "Satellite images have become an increasingly important tool in environmental and ecological studies. By analyzing images of the Earth's surface, scientists can gain a wealth of information about land use, vegetation, and other environmental variables. One of the challenges of working with satellite images is that they often have a large number of bands, each containing different information. To simplify the data and make it easier to analyze, a common approach is to reduce the dimensionality of the data using principal component analysis (PCA).\n",
    "\n",
    "In this notebook, we will demonstrate how to calculate the PCA of an 8-band satellite image, and how to classify the three-band PCA data into discrete regions using Spectral Clustering.\n",
    "\n",
    "## Background\n",
    "\n",
    "Principal component analysis (PCA) is a dimensionality reduction technique that transforms the data into a new coordinate system, where the first axis (principal component) represents the direction of maximum variance in the data. By retaining only the first few principal components, we can reduce the number of bands in the data while still capturing the most important information.\n",
    "\n",
    "Spectral Clustering is a graph-based clustering algorithm that partitions the data into groups (clusters) based on the similarity or distance between the data points. Unlike other clustering algorithms such as K-Means, Spectral Clustering does not require the number of clusters to be specified beforehand, making it a useful choice for unsupervised classification problems.\n",
    "\n",
    "\n"
   ]
  },
  {
   "cell_type": "markdown",
   "metadata": {},
   "source": [
    "\n",
    "### Importing Libraries and Loading Data\n"
   ]
  },
  {
   "cell_type": "code",
   "execution_count": null,
   "metadata": {},
   "outputs": [],
   "source": [
    "# conda install numpy matplotlib scikit-learn joblib \n",
    "\n",
    "import numpy as np\n",
    "from sklearn.decomposition import PCA\n",
    "from sklearn.cluster import SpectralClustering"
   ]
  },
  {
   "cell_type": "markdown",
   "metadata": {},
   "source": [
    "\n",
    "### Load the 8-band satellite image data\n"
   ]
  },
  {
   "cell_type": "code",
   "execution_count": null,
   "metadata": {},
   "outputs": [],
   "source": [
    "\n",
    "image_data = np.load('image_data.npy')\n"
   ]
  },
  {
   "cell_type": "markdown",
   "metadata": {},
   "source": [
    "\n",
    "## Calculating PCA\n"
   ]
  },
  {
   "cell_type": "code",
   "execution_count": null,
   "metadata": {},
   "outputs": [],
   "source": [
    "\n",
    "\n",
    "# Initialize the PCA model with 3 components\n",
    "pca = PCA(n_components=3)\n",
    "\n",
    "# Fit the model to the image data\n",
    "pca.fit(image_data)\n",
    "\n",
    "# Transform the data into the PCA space\n",
    "pca_results = pca.transform(image_data)\n",
    "\n"
   ]
  },
  {
   "cell_type": "markdown",
   "metadata": {},
   "source": [
    "\n",
    "## Classifying the PCA Results Using Spectral Clustering\n",
    "\n"
   ]
  },
  {
   "cell_type": "code",
   "execution_count": null,
   "metadata": {},
   "outputs": [],
   "source": [
    "\n",
    "# Define the number of clusters\n",
    "n_clusters = 3\n",
    "\n",
    "# Initialize the Spectral Clustering model\n",
    "spectral_clustering = SpectralClustering(n_clusters=n_clusters, affinity='nearest_neighbors')\n",
    "\n",
    "# Fit the model to the PCA results\n",
    "spectral_clustering.fit(pca_results)\n",
    "\n",
    "# Get the cluster assignments for each data point\n",
    "labels = spectral_clustering.labels_\n",
    "\n"
   ]
  },
  {
   "cell_type": "markdown",
   "metadata": {},
   "source": [
    "\n",
    "## Conclusion\n",
    "\n",
    "By reducing the dimensionality of the satellite image data using PCA and then classifying the data into discrete regions using Spectral Clustering, we can simplify the data and make it easier to analyze. This process can be particularly useful in identifying species habitats, which is important for supporting conservation efforts.\n",
    "\n",
    "In addition, by using modern data science techniques such as PCA and Spectral Clustering, we can improve our understanding of the environment and support economic development\n"
   ]
  },
  {
   "cell_type": "code",
   "execution_count": null,
   "metadata": {},
   "outputs": [],
   "source": [
    "import numpy as np\n",
    "import matplotlib.pyplot as plt\n",
    "\n",
    "# Load the PCA results and cluster assignments\n",
    "pca_results = np.load('pca_results.npy')\n",
    "labels = np.load('labels.npy')\n",
    "\n",
    "# Reshape the PCA results into a 2D image\n",
    "image = pca_results[:, 0].reshape(rows, cols)\n",
    "\n",
    "# Plot the classification image\n",
    "plt.imshow(image, cmap='gray')\n",
    "plt.show()\n"
   ]
  },
  {
   "cell_type": "code",
   "execution_count": null,
   "metadata": {},
   "outputs": [],
   "source": [
    "import numpy as np\n",
    "import matplotlib.pyplot as plt\n",
    "\n",
    "# Load the PCA results and cluster assignments\n",
    "pca_results = np.load('pca_results.npy')\n",
    "labels = np.load('labels.npy')\n",
    "\n",
    "# Reshape the PCA results into a 2D image\n",
    "image = pca_results[:, 0].reshape(rows, cols)\n",
    "\n",
    "# Create a color map based on the cluster assignments\n",
    "colors = plt.cm.Spectral(np.linspace(0, 1, len(np.unique(labels))))\n",
    "colormap = np.array([colors[int(i % len(colors))] for i in labels])\n",
    "\n",
    "# Plot the classification image\n",
    "plt.imshow(colormap)\n",
    "plt.show()\n"
   ]
  }
 ],
 "metadata": {
  "kernelspec": {
   "display_name": "Python 3",
   "language": "python",
   "name": "python3"
  },
  "language_info": {
   "name": "python",
   "version": "3.10.6"
  },
  "orig_nbformat": 4,
  "vscode": {
   "interpreter": {
    "hash": "6f7072db82785f01b824390e411997dae2b2a4028d421496b54acfc9b1fcaffb"
   }
  }
 },
 "nbformat": 4,
 "nbformat_minor": 2
}
