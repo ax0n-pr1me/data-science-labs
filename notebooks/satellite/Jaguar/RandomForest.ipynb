{
 "cells": [
  {
   "attachments": {},
   "cell_type": "markdown",
   "metadata": {},
   "source": [
    "Here's an outline of a Jupyter Notebook to guide you in classifying jaguar habitat using location data and an 8-band satellite image. The Python libraries used in this notebook are pandas, rasterio, geopandas, numpy, and sklearn. This Jupyter Notebook provides a method for classifying jaguar habitat in satellite imagery using location data from a CSV file. The RandomForestClassifier is used as the classification model, but other classifiers can also be tested to see if they provide better results."
   ]
  },
  {
   "cell_type": "code",
   "execution_count": 1,
   "metadata": {},
   "outputs": [],
   "source": [
    "# Import necessary libraries\n",
    "import pandas as pd\n",
    "import rasterio\n",
    "import geopandas as gpd\n",
    "import numpy as np\n",
    "from sklearn.model_selection import train_test_split\n",
    "from sklearn.ensemble import RandomForestClassifier\n",
    "from sklearn.metrics import accuracy_score, confusion_matrix\n"
   ]
  },
  {
   "cell_type": "code",
   "execution_count": 2,
   "metadata": {},
   "outputs": [],
   "source": [
    "# Load the CSV file containing jaguar location data and convert it to a GeoDataFrame.\n",
    "csv_file = '../../../data/jaguar/clp_jaguar_locations.csv'\n",
    "df = pd.read_csv(csv_file)\n",
    "gdf = gpd.GeoDataFrame(\n",
    "    df, geometry=gpd.points_from_xy(df.X, df.Y))"
   ]
  },
  {
   "cell_type": "code",
   "execution_count": 3,
   "metadata": {},
   "outputs": [],
   "source": [
    "# Load the 8-band satellite image using rasterio.\n",
    "satellite_image = '../../../data/jaguar/clp_20220331_162002_52_241c_3B_AnalyticMS_SR_8b.tif'\n",
    "with rasterio.open(satellite_image) as src:\n",
    "   # print(src.indexes)  ## expecting 8 indexes for the 8 bands\n",
    "    image = src.read()\n",
    "    profile = src.profile"
   ]
  },
  {
   "cell_type": "code",
   "execution_count": 4,
   "metadata": {},
   "outputs": [],
   "source": [
    "# # Create a function to extract pixel values for each jaguar location.\n",
    "def extract_pixel_values(gdf, raster):\n",
    "    values = []\n",
    "    for point in gdf.geometry:\n",
    "        print('point X', point.x, 'Y', point.y)\n",
    "        print('raster', raster)\n",
    "        print('raster index', raster.index(point.x, point.y))\n",
    "        row, col = raster.index(point.x, point.y)\n",
    "        # print(row, col)\n",
    "        pixel_values = raster.read()[:, row, col]\n",
    "        values.append(pixel_values)\n",
    "    return np.array(values)\n"
   ]
  },
  {
   "cell_type": "code",
   "execution_count": 5,
   "metadata": {},
   "outputs": [
    {
     "name": "stdout",
     "output_type": "stream",
     "text": [
      "point X -89.0518 Y 18.5841\n",
      "raster [[[ 242  267  269 ...  431  381  425]\n",
      "  [ 209  233  243 ...  409  384  418]\n",
      "  [ 185  201  240 ...  391  378  377]\n",
      "  ...\n",
      "  [   0    0    0 ...  305  342  343]\n",
      "  [   0    0    0 ...  335  325  325]\n",
      "  [   0    0    0 ...  322  314  318]]\n",
      "\n",
      " [[ 225  226  229 ...  390  393  378]\n",
      "  [ 226  226  229 ...  382  384  372]\n",
      "  [ 233  229  232 ...  373  373  369]\n",
      "  ...\n",
      "  [   0    0    0 ...  327  318  325]\n",
      "  [   0    0    0 ...  323  323  326]\n",
      "  [   0    0    0 ...  317  322  326]]\n",
      "\n",
      " [[ 408  408  409 ...  525  523  523]\n",
      "  [ 398  399  405 ...  530  528  519]\n",
      "  [ 424  419  413 ...  532  531  518]\n",
      "  ...\n",
      "  [   0    0    0 ...  466  477  488]\n",
      "  [   0    0    0 ...  489  490  481]\n",
      "  [   0    0    0 ...  495  470  481]]\n",
      "\n",
      " ...\n",
      "\n",
      " [[ 296  282  324 ...  535  546  529]\n",
      "  [ 307  308  314 ...  550  524  522]\n",
      "  [ 313  308  310 ...  535  521  517]\n",
      "  ...\n",
      "  [   0    0    0 ...  478  456  451]\n",
      "  [   0    0    0 ...  463  460  453]\n",
      "  [   0    0    0 ...  454  459  453]]\n",
      "\n",
      " [[ 979  987  995 ... 1067 1141 1135]\n",
      "  [ 975  972  986 ... 1137 1149 1164]\n",
      "  [ 963  950  963 ... 1172 1151 1162]\n",
      "  ...\n",
      "  [   0    0    0 ... 1037 1043 1047]\n",
      "  [   0    0    0 ...  991 1025 1031]\n",
      "  [   0    0    0 ... 1039 1047 1020]]\n",
      "\n",
      " [[3693 3673 3776 ... 3000 3014 2978]\n",
      "  [3794 3786 3751 ... 3099 3060 3001]\n",
      "  [3839 3844 3839 ... 3008 3019 3005]\n",
      "  ...\n",
      "  [   0    0    0 ... 2875 2923 2907]\n",
      "  [   0    0    0 ... 2883 2918 2914]\n",
      "  [   0    0    0 ... 2902 2879 2901]]]\n"
     ]
    },
    {
     "ename": "AttributeError",
     "evalue": "'numpy.ndarray' object has no attribute 'index'",
     "output_type": "error",
     "traceback": [
      "\u001b[0;31m---------------------------------------------------------------------------\u001b[0m",
      "\u001b[0;31mAttributeError\u001b[0m                            Traceback (most recent call last)",
      "Cell \u001b[0;32mIn[5], line 2\u001b[0m\n\u001b[1;32m      1\u001b[0m \u001b[39m# Extract pixel values for each jaguar location using the function.\u001b[39;00m\n\u001b[0;32m----> 2\u001b[0m X \u001b[39m=\u001b[39m extract_pixel_values(gdf, image)\n\u001b[1;32m      3\u001b[0m y \u001b[39m=\u001b[39m gdf[\u001b[39m'\u001b[39m\u001b[39mhabitat\u001b[39m\u001b[39m'\u001b[39m]\u001b[39m.\u001b[39mvalues\n",
      "Cell \u001b[0;32mIn[4], line 7\u001b[0m, in \u001b[0;36mextract_pixel_values\u001b[0;34m(gdf, raster)\u001b[0m\n\u001b[1;32m      5\u001b[0m \u001b[39mprint\u001b[39m(\u001b[39m'\u001b[39m\u001b[39mpoint X\u001b[39m\u001b[39m'\u001b[39m, point\u001b[39m.\u001b[39mx, \u001b[39m'\u001b[39m\u001b[39mY\u001b[39m\u001b[39m'\u001b[39m, point\u001b[39m.\u001b[39my)\n\u001b[1;32m      6\u001b[0m \u001b[39mprint\u001b[39m(\u001b[39m'\u001b[39m\u001b[39mraster\u001b[39m\u001b[39m'\u001b[39m, raster)\n\u001b[0;32m----> 7\u001b[0m \u001b[39mprint\u001b[39m(\u001b[39m'\u001b[39m\u001b[39mraster index\u001b[39m\u001b[39m'\u001b[39m, raster\u001b[39m.\u001b[39;49mindex(point\u001b[39m.\u001b[39mx, point\u001b[39m.\u001b[39my))\n\u001b[1;32m      8\u001b[0m row, col \u001b[39m=\u001b[39m raster\u001b[39m.\u001b[39mindex(point\u001b[39m.\u001b[39mx, point\u001b[39m.\u001b[39my)\n\u001b[1;32m      9\u001b[0m \u001b[39m# print(row, col)\u001b[39;00m\n",
      "\u001b[0;31mAttributeError\u001b[0m: 'numpy.ndarray' object has no attribute 'index'"
     ]
    }
   ],
   "source": [
    "# Extract pixel values for each jaguar location using the function.\n",
    "X = extract_pixel_values(gdf, image)\n",
    "y = gdf['habitat'].values\n"
   ]
  },
  {
   "cell_type": "code",
   "execution_count": null,
   "metadata": {},
   "outputs": [],
   "source": [
    "\n",
    "# Split the data into training and testing sets.\n",
    "X_train, X_test, y_train, y_test = train_test_split(\n",
    "    X, y, test_size=0.3, random_state=42)"
   ]
  },
  {
   "cell_type": "code",
   "execution_count": null,
   "metadata": {},
   "outputs": [],
   "source": [
    "\n",
    "# Train a RandomForestClassifier model on the training data.\n",
    "clf = RandomForestClassifier(n_estimators=100, random_state=42)\n",
    "clf.fit(X_train, y_train)\n"
   ]
  },
  {
   "cell_type": "code",
   "execution_count": null,
   "metadata": {},
   "outputs": [],
   "source": [
    "\n",
    "# Predict the habitat classes on the testing set and calculate the accuracy score.\n",
    "y_pred = clf.predict(X_test)\n",
    "accuracy = accuracy_score(y_test, y_pred)\n",
    "print(f'Accuracy: {accuracy}')\n"
   ]
  },
  {
   "cell_type": "code",
   "execution_count": null,
   "metadata": {},
   "outputs": [],
   "source": [
    "\n",
    "# Create a confusion matrix to evaluate the model's performance.\n",
    "conf_matrix = confusion_matrix(y_test, y_pred)\n",
    "print(conf_matrix)\n"
   ]
  },
  {
   "cell_type": "code",
   "execution_count": null,
   "metadata": {},
   "outputs": [],
   "source": [
    "\n",
    "# Apply the model to the entire satellite image to classify jaguar habitat.\n",
    "def classify_image(image, clf):\n",
    "    img_shape = image.shape\n",
    "    flattened_image = image.reshape(img_shape[0], -1).T\n",
    "    classified_data = clf.predict(flattened_image)\n",
    "    classified_image = classified_data.reshape(img_shape[1], img_shape[2])\n",
    "    return classified_image\n"
   ]
  },
  {
   "cell_type": "code",
   "execution_count": null,
   "metadata": {},
   "outputs": [],
   "source": [
    "\n",
    "# Save the classified image as a GeoTIFF file.\n",
    "classified_image = classify_image(image, clf)\n",
    "profile.update(dtype=rasterio.uint8, count=1)\n",
    "output_file = \"classified_habitat.tif\"\n"
   ]
  },
  {
   "cell_type": "code",
   "execution_count": null,
   "metadata": {},
   "outputs": [],
   "source": [
    "\n",
    "with rasterio.open(output_file, 'w', **profile) as dst:\n",
    "    dst.write(classified_image.astype(rasterio.uint8), 1)\n",
    "\n",
    "# load output into qgis and inspect\n"
   ]
  },
  {
   "cell_type": "code",
   "execution_count": null,
   "metadata": {},
   "outputs": [],
   "source": [
    "# Method using 10x10 pixel chips\n",
    "\n",
    "\"\"\"\n",
    "This code reads the CSV file and satellite image, extracts 10x10 pixel chips, reshapes the chips into 1D feature vectors, splits the data into training and testing sets, trains a Random Forest classifier on the training data, and evaluates the classifier's performance on the test data.\n",
    "\"\"\"\n",
    "\n",
    "\n",
    "import pandas as pd\n",
    "import rasterio\n",
    "import geopandas as gpd\n",
    "import numpy as np\n",
    "from sklearn.ensemble import RandomForestClassifier\n",
    "from sklearn.model_selection import train_test_split\n",
    "from sklearn.metrics import accuracy_score, confusion_matrix\n",
    "\n",
    "# Function to extract pixel chips\n",
    "\n",
    "\n",
    "def extract_pixel_chips(gdf, raster, chip_size=10):\n",
    "    half_chip = chip_size // 2\n",
    "    values = []\n",
    "    for point in gdf.geometry:\n",
    "        row, col = raster.index(point.x, point.y)\n",
    "        pixel_values = raster.read(\n",
    "        )[:, row-half_chip:row+half_chip, col-half_chip:col+half_chip]\n",
    "        values.append(pixel_values)\n",
    "    return np.array(values)\n",
    "\n",
    "\n",
    "# Read CSV and create GeoDataFrame\n",
    "csv_file = 'jaguar_locations.csv'\n",
    "df = pd.read_csv(csv_file)\n",
    "gdf = gpd.GeoDataFrame(\n",
    "    df, geometry=gpd.points_from_xy(df.longitude, df.latitude))\n",
    "\n",
    "# Read satellite image\n",
    "satellite_image = 'satellite_image.tif'\n",
    "with rasterio.open(satellite_image) as src:\n",
    "    image = src.read()\n",
    "    profile = src.profile\n",
    "\n",
    "# Extract pixel chips and labels\n",
    "X = extract_pixel_chips(gdf, src)\n",
    "y = gdf['habitat'].values\n",
    "\n",
    "# Reshape the pixel chips into 1D feature vectors (input_channels * chip_size * chip_size)\n",
    "input_channels = X.shape[1]\n",
    "X = X.reshape(X.shape[0], input_channels * 10 * 10)\n",
    "\n",
    "# Split the data into training and testing sets\n",
    "X_train, X_test, y_train, y_test = train_test_split(\n",
    "    X, y, test_size=0.3, random_state=42)\n",
    "\n",
    "# Create and train the Random Forest classifier\n",
    "clf = RandomForestClassifier(n_estimators=100, random_state=42)\n",
    "clf.fit(X_train, y_train)\n",
    "\n",
    "# Predict the habitat class for test data and evaluate performance\n",
    "y_pred = clf.predict(X_test)\n",
    "accuracy = accuracy_score(y_test, y_pred)\n",
    "print(\"Accuracy:\", accuracy)\n",
    "print(\"Confusion Matrix:\")\n",
    "print(confusion_matrix(y_test, y_pred))"
   ]
  }
 ],
 "metadata": {
  "kernelspec": {
   "display_name": "Python 3",
   "language": "python",
   "name": "python3"
  },
  "language_info": {
   "codemirror_mode": {
    "name": "ipython",
    "version": 3
   },
   "file_extension": ".py",
   "mimetype": "text/x-python",
   "name": "python",
   "nbconvert_exporter": "python",
   "pygments_lexer": "ipython3",
   "version": "3.10.10"
  },
  "orig_nbformat": 4
 },
 "nbformat": 4,
 "nbformat_minor": 2
}
