{
 "cells": [
  {
   "attachments": {},
   "cell_type": "markdown",
   "metadata": {},
   "source": [
    "input data are two 8-band satellite scenes as TIFF files of the same region, at two different times\n",
    "calculate PCA for both images and display them next to each other\n",
    "subtract the first PCA band from time-1 image from the first PCA band from the time-2 image\n",
    "display the difference raster\n",
    "\n",
    "## Data Book\n",
    "\n",
    "### Planet Labs\n",
    "\n",
    "Band Map\n",
    "1. coastal_blue  \n",
    "2. blue  \n",
    "3. green_i  \n",
    "4. green  \n",
    "5. yellow  \n",
    "6. red  \n",
    "7. rededge  \n",
    "8. nir  "
   ]
  },
  {
   "cell_type": "code",
   "execution_count": null,
   "metadata": {},
   "outputs": [],
   "source": [
    "fp1 = '../../../data/frisco-change/frisco-22_psscene_analytic_8b_sr_udm2/files/PSScene/20220328_164657_27_2486/analytic_8b_sr_udm2/20220328_164657_27_2486_3B_AnalyticMS_SR_8b.tif'\n",
    "\n",
    "fp2 = '../../../data/frisco-change/frisco-23_psscene_analytic_8b_sr_udm2/files/PSScene/20230211_164948_57_249a/analytic_8b_sr_udm2/20230211_164948_57_249a_3B_AnalyticMS_SR_8b.tif'\n",
    "\n",
    "fp3 = '../../../data/frisco-change/frisco-boundary.geojson'\n",
    "\n",
    "out_tif_1 = '../../../data/frisco-change/aoi/clip_22.tiff'\n",
    "out_tif_2 = '../../../data/frisco-change/aoi/clip_23.tiff'\n"
   ]
  },
  {
   "cell_type": "code",
   "execution_count": null,
   "metadata": {},
   "outputs": [],
   "source": [
    "import rasterio\n",
    "from rasterio.plot import show\n",
    "import geopandas as gpd\n",
    "import matplotlib.pyplot as plt\n",
    "import json\n",
    "from shapely.geometry import box\n",
    "import fiona.crs"
   ]
  },
  {
   "cell_type": "code",
   "execution_count": null,
   "metadata": {},
   "outputs": [],
   "source": [
    "# Read the geoJSON file\n",
    "with open(fp3) as f:\n",
    "    data = json.load(f)\n",
    "\n",
    "# Get the bounding box of the first feature's geometry\n",
    "coords = data['features'][0]['geometry']['coordinates'][0]\n",
    "coords\n",
    "\n",
    "# Extract the minimum and maximum latitude and longitude values\n",
    "lons, lats = zip(*coords)\n",
    "minx, miny, maxx, maxy = min(lons), min(lats), max(lons), max(lats)\n",
    "\n",
    "# Create a shapely geometry box using the minimum and maximum values\n",
    "bbox = box(minx, miny, maxx, maxy)\n",
    "\n",
    "bbox"
   ]
  },
  {
   "cell_type": "code",
   "execution_count": null,
   "metadata": {},
   "outputs": [],
   "source": [
    "geo = gpd.GeoDataFrame({'geometry': bbox}, index=[0], crs=fiona.crs.from_epsg(4326))"
   ]
  },
  {
   "cell_type": "code",
   "execution_count": null,
   "metadata": {},
   "outputs": [],
   "source": [
    "# Read the input raster\n",
    "with rasterio.open(fp1) as src:\n",
    "    # Plot the image using rasterio\n",
    "    # show((src, 4), cmap='terrain')\n",
    "    bounds = src.bounds\n",
    "    print(src.crs)\n",
    "    \n"
   ]
  },
  {
   "cell_type": "code",
   "execution_count": null,
   "metadata": {},
   "outputs": [],
   "source": [
    "gdf = gpd.read_file(fp3)\n",
    "\n",
    "# Plot the geoJSON file on top of the satellite image using geopandas\n",
    "fig, ax = plt.subplots(figsize=(10,10))\n",
    "gdf.plot(ax=ax, alpha=0.5, edgecolor='k')\n",
    "ax.set_xlim([bounds.left, bounds.right])\n",
    "ax.set_ylim([bounds.bottom, bounds.top])\n",
    "plt.show()\n"
   ]
  }
 ],
 "metadata": {
  "kernelspec": {
   "display_name": "Python 3",
   "language": "python",
   "name": "python3"
  },
  "language_info": {
   "codemirror_mode": {
    "name": "ipython",
    "version": 3
   },
   "file_extension": ".py",
   "mimetype": "text/x-python",
   "name": "python",
   "nbconvert_exporter": "python",
   "pygments_lexer": "ipython3",
   "version": "3.8.16"
  },
  "orig_nbformat": 4,
  "vscode": {
   "interpreter": {
    "hash": "0cebf19971d5947b36f0ad695f928a673ac4b0d2e6f5107acb9f6dbb29dee899"
   }
  }
 },
 "nbformat": 4,
 "nbformat_minor": 2
}
