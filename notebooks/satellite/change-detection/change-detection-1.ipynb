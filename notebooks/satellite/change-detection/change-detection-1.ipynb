{
 "cells": [
  {
   "attachments": {},
   "cell_type": "markdown",
   "metadata": {},
   "source": [
    "input data are two 8-band satellite scenes as TIFF files of the same region, at two different times\n",
    "calculate PCA for both images and display them next to each other\n",
    "subtract the first PCA band from time-1 image from the first PCA band from the time-2 image\n",
    "display the difference raster\n",
    "\n",
    "## Data Book\n",
    "\n",
    "### Planet Labs\n",
    "\n",
    "Band Map\n",
    "1. coastal_blue  \n",
    "2. blue  \n",
    "3. green_i  \n",
    "4. green  \n",
    "5. yellow  \n",
    "6. red  \n",
    "7. rededge  \n",
    "8. nir  "
   ]
  },
  {
   "cell_type": "code",
   "execution_count": null,
   "metadata": {},
   "outputs": [],
   "source": [
    "import imageio.v3 as iio\n",
    "import rasterio\n",
    "import numpy as np\n",
    "from sklearn.decomposition import PCA\n",
    "import matplotlib.pyplot as plt"
   ]
  },
  {
   "cell_type": "code",
   "execution_count": null,
   "metadata": {},
   "outputs": [],
   "source": [
    "\n",
    "fp1 = '../../../data/frisco-change/frisco-22_psscene_analytic_8b_sr_udm2/files/PSScene/20220328_164657_27_2486/analytic_8b_sr_udm2/20220328_164657_27_2486_3B_AnalyticMS_SR_8b.tif'\n",
    "\n",
    "fp2 = '../../../data/frisco-change/frisco-23_psscene_analytic_8b_sr_udm2/files/PSScene/20230211_164948_57_249a/analytic_8b_sr_udm2/20230211_164948_57_249a_3B_AnalyticMS_SR_8b.tif'\n",
    "\n",
    "\n",
    "# Load the two satellite scenes as TIFF files\n",
    "with rasterio.open(fp1) as src:\n",
    "    scene1 = src.read()\n",
    "    transform1 = src.transform\n",
    "\n",
    "with rasterio.open(fp2) as src:\n",
    "    scene2 = src.read()\n",
    "    transform2 = src.transform\n",
    "\n",
    "\n",
    "# Read the satellite image file into a numpy array\n",
    "# scene1 = iio.imread(fp1)\n",
    "# scene2 = iio.imread(fp1)\n",
    "\n",
    "# # limit raster to AOI example\n",
    "# import rasterio\n",
    "# import geopandas as gpd\n",
    "# from rasterio.mask import mask\n",
    "\n",
    "# # Load the GeoJSON boundary using geopandas\n",
    "# gdf = gpd.read_file('boundary.geojson')\n",
    "\n",
    "# # Open the raster file and clip it to the boundary using the \"mask\" function\n",
    "# with rasterio.open('image.tif') as src:\n",
    "#     out_image, out_transform = mask(src, gdf.geometry, crop=True)\n",
    "\n",
    "# # Update the metadata of the clipped image\n",
    "# out_meta = src.meta.copy()\n",
    "# out_meta.update({\n",
    "#     \"height\": out_image.shape[1],\n",
    "#     \"width\": out_image.shape[2],\n",
    "#     \"transform\": out_transform\n",
    "# })\n",
    "\n",
    "# # Save the clipped image to disk\n",
    "# with rasterio.open('clipped_image.tif', 'w', **out_meta) as dst:\n",
    "#     dst.write(out_image)\n"
   ]
  },
  {
   "cell_type": "code",
   "execution_count": null,
   "metadata": {},
   "outputs": [],
   "source": [
    "print(scene1.shape)\n",
    "print(scene2.shape)\n",
    "\n",
    "scene1_2d = scene1.reshape(-1, scene1.shape[0])\n",
    "scene2_2d = scene2.reshape(-1, scene2.shape[0])\n",
    "\n",
    "print(scene1_2d.shape)\n",
    "print(scene2_2d.shape)"
   ]
  },
  {
   "cell_type": "code",
   "execution_count": null,
   "metadata": {},
   "outputs": [],
   "source": [
    "# Calculate PCA for both images\n",
    "pca1 = PCA(n_components=8)\n",
    "pca1.fit(scene1_2d)\n",
    "\n",
    "pca2 = PCA(n_components=8)\n",
    "pca2.fit(scene2_2d)"
   ]
  },
  {
   "cell_type": "code",
   "execution_count": null,
   "metadata": {},
   "outputs": [],
   "source": [
    "pca1_results = pca1.transform(scene1_2d)\n",
    "pca2_results = pca2.transform(scene2_2d)\n"
   ]
  },
  {
   "cell_type": "code",
   "execution_count": null,
   "metadata": {},
   "outputs": [],
   "source": [
    "\n",
    "print(pca1_results.shape)\n",
    "print(pca2_results.shape)"
   ]
  },
  {
   "cell_type": "code",
   "execution_count": null,
   "metadata": {},
   "outputs": [],
   "source": [
    "pca1_b1 = pca1_results[:, 0].reshape(scene1.shape[1], scene1.shape[2] )\n",
    "pca2_b1 = pca2_results[:, 0].reshape(scene2.shape[1], scene2.shape[2] )"
   ]
  },
  {
   "cell_type": "code",
   "execution_count": null,
   "metadata": {},
   "outputs": [],
   "source": [
    "\n",
    "# Display the first PCA band for both images\n",
    "plt.figure(figsize=(10, 5))\n",
    "plt.subplot(1, 2, 1)\n",
    "plt.imshow(pca1_b1)\n",
    "plt.title('PCA Band 1 - Scene 1')\n",
    "\n",
    "plt.subplot(1, 2, 2)\n",
    "plt.imshow(pca2_b1)\n",
    "plt.title('PCA Band 1 - Scene 2')\n",
    "plt.show()\n"
   ]
  },
  {
   "cell_type": "code",
   "execution_count": null,
   "metadata": {},
   "outputs": [],
   "source": [
    "\n",
    "# Subtract the first PCA band from time-1 image from the first PCA band from the time-2 images\n",
    "pca_diff = pca2.components_[0] - pca1.components_[0]\n",
    "\n",
    "# Display the difference raster\n",
    "plt.figure(figsize=(10, 5))\n",
    "plt.imshow(pca_diff.reshape((src.height, src.width)), cmap='gray')\n",
    "plt.title('Difference Raster')\n",
    "plt.show()\n"
   ]
  }
 ],
 "metadata": {
  "kernelspec": {
   "display_name": "Python 3",
   "language": "python",
   "name": "python3"
  },
  "language_info": {
   "codemirror_mode": {
    "name": "ipython",
    "version": 3
   },
   "file_extension": ".py",
   "mimetype": "text/x-python",
   "name": "python",
   "nbconvert_exporter": "python",
   "pygments_lexer": "ipython3",
   "version": "3.10.9"
  },
  "orig_nbformat": 4,
  "vscode": {
   "interpreter": {
    "hash": "4d0f8a025ec1a333affff4d0562352bd2700e1883e0963e93567ef3cf9407ca3"
   }
  }
 },
 "nbformat": 4,
 "nbformat_minor": 2
}
