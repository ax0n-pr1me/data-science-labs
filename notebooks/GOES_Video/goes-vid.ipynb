{
 "cells": [
  {
   "cell_type": "code",
   "execution_count": 1,
   "metadata": {},
   "outputs": [],
   "source": [
    "from goes2go import GOES\n",
    "from goes2go.data import goes_timerange"
   ]
  },
  {
   "cell_type": "code",
   "execution_count": 2,
   "metadata": {},
   "outputs": [],
   "source": [
    "# Date parameters\n",
    "start = '2022-03-17 021:00'\n",
    "end = '2022-03-18 02:00'\n",
    "\n",
    "# bands I want include 2, 7, 14\n",
    "# bands_to_keep = [2, 7, 14]\n",
    "bands_to_keep = [2, 7, 14, 15]\n",
    "# bands_to_keep = [2]\n",
    "\n",
    "# Data product specifications\n",
    "satellite = 17\n",
    "product = \"ABI-L1b-Rad\"\n",
    "domain = 'C'"
   ]
  },
  {
   "cell_type": "code",
   "execution_count": 3,
   "metadata": {},
   "outputs": [
    {
     "data": {
      "text/plain": [
       "960"
      ]
     },
     "execution_count": 3,
     "metadata": {},
     "output_type": "execute_result"
    }
   ],
   "source": [
    "# ABI Level 1b Data\n",
    "G = GOES(satellite, product, domain)\n",
    "\n",
    "\n",
    "# Produce a pandas DataFrame of the available files in a time range\n",
    "df = G.df(start, end)\n",
    "len(df.index)"
   ]
  },
  {
   "cell_type": "code",
   "execution_count": 4,
   "metadata": {},
   "outputs": [
    {
     "data": {
      "text/plain": [
       "240"
      ]
     },
     "execution_count": 4,
     "metadata": {},
     "output_type": "execute_result"
    }
   ],
   "source": [
    "fire_bands = df[df['band'].isin(bands_to_keep)]\n",
    "len(fire_bands.index)"
   ]
  },
  {
   "cell_type": "code",
   "execution_count": 5,
   "metadata": {},
   "outputs": [
    {
     "name": "stdout",
     "output_type": "stream",
     "text": [
      "📦 Finished downloading [240] files to [../../data/goes-data/noaa-goes16/ABI-L1b-RadC].\n"
     ]
    }
   ],
   "source": [
    "g = goes_timerange(start='2022-03-17 021:00',\n",
    "                   end='2022-03-18 02:00',\n",
    "                   satellite=16,\n",
    "                   product=\"ABI-L1b-Rad\",\n",
    "                   domain=\"C\",\n",
    "                   return_as=\"filelist\",\n",
    "                   download=True,\n",
    "                      save_dir=\"../../data/goes-data/\",\n",
    "                #    save_dir=\"~/Desktop/GOES/\",\n",
    "                   overwrite=False,\n",
    "                   bands=bands_to_keep,\n",
    "                   s3_refresh=True,\n",
    "                   max_cpus=8\n",
    "                   )"
   ]
  },
  {
   "cell_type": "code",
   "execution_count": null,
   "metadata": {},
   "outputs": [],
   "source": [
    "g.attrs"
   ]
  },
  {
   "cell_type": "code",
   "execution_count": null,
   "metadata": {},
   "outputs": [],
   "source": [
    "%%bash\n",
    "tree ../../data/goes-data"
   ]
  }
 ],
 "metadata": {
  "kernelspec": {
   "display_name": "Python 3",
   "language": "python",
   "name": "python3"
  },
  "language_info": {
   "codemirror_mode": {
    "name": "ipython",
    "version": 3
   },
   "file_extension": ".py",
   "mimetype": "text/x-python",
   "name": "python",
   "nbconvert_exporter": "python",
   "pygments_lexer": "ipython3",
   "version": "3.12.0"
  }
 },
 "nbformat": 4,
 "nbformat_minor": 2
}
